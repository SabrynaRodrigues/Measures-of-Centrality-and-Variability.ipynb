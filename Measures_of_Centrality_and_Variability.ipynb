{
  "nbformat": 4,
  "nbformat_minor": 0,
  "metadata": {
    "colab": {
      "provenance": []
    },
    "kernelspec": {
      "name": "python3",
      "display_name": "Python 3"
    },
    "language_info": {
      "name": "python"
    }
  },
  "cells": [
    {
      "cell_type": "code",
      "execution_count": 13,
      "metadata": {
        "id": "MSX_Ruq5kkyk"
      },
      "outputs": [],
      "source": [
        "import numpy as np\n",
        "import scipy.stats as stats"
      ]
    },
    {
      "cell_type": "code",
      "source": [
        "players = [40000,18000,12000,250000,30000,140000,300000,40000,800000]\n",
        "mean = np.mean(players)\n",
        "mean"
      ],
      "metadata": {
        "colab": {
          "base_uri": "https://localhost:8080/"
        },
        "id": "Aj6fLeLEkyXC",
        "outputId": "143d2654-4ea0-4b36-c97f-d9f1e1b8b5e5"
      },
      "execution_count": 4,
      "outputs": [
        {
          "output_type": "execute_result",
          "data": {
            "text/plain": [
              "np.float64(181111.11111111112)"
            ]
          },
          "metadata": {},
          "execution_count": 4
        }
      ]
    },
    {
      "cell_type": "code",
      "source": [
        "np.median(players)"
      ],
      "metadata": {
        "colab": {
          "base_uri": "https://localhost:8080/"
        },
        "id": "NtWisfZMlJgI",
        "outputId": "d6ff59f2-5184-47b4-e1b4-a493f7606677"
      },
      "execution_count": 5,
      "outputs": [
        {
          "output_type": "execute_result",
          "data": {
            "text/plain": [
              "np.float64(40000.0)"
            ]
          },
          "metadata": {},
          "execution_count": 5
        }
      ]
    },
    {
      "cell_type": "code",
      "source": [
        "quartis = np.quantile(players, [0, # min\n",
        "                                0.25, # first\n",
        "                                0.5, # second\n",
        "                                0.75, # third\n",
        "                                1  # max\n",
        "                                ])\n",
        "\n",
        "quartis"
      ],
      "metadata": {
        "colab": {
          "base_uri": "https://localhost:8080/"
        },
        "id": "RxXnEOG4lLyp",
        "outputId": "330f5999-717b-4671-ddba-f977df8207da"
      },
      "execution_count": 6,
      "outputs": [
        {
          "output_type": "execute_result",
          "data": {
            "text/plain": [
              "array([ 12000.,  30000.,  40000., 250000., 800000.])"
            ]
          },
          "metadata": {},
          "execution_count": 6
        }
      ]
    },
    {
      "cell_type": "code",
      "source": [
        "# standard deviation\n",
        "np.std(players, ddof=1)"
      ],
      "metadata": {
        "colab": {
          "base_uri": "https://localhost:8080/"
        },
        "id": "qVpqnHrGliGf",
        "outputId": "a8021e8d-2513-4ea3-c3ad-6c616ea4a47a"
      },
      "execution_count": 7,
      "outputs": [
        {
          "output_type": "execute_result",
          "data": {
            "text/plain": [
              "np.float64(255307.87514511007)"
            ]
          },
          "metadata": {},
          "execution_count": 7
        }
      ]
    },
    {
      "cell_type": "code",
      "source": [
        "stats.describe(players)"
      ],
      "metadata": {
        "colab": {
          "base_uri": "https://localhost:8080/"
        },
        "id": "B8rIqYmflqmG",
        "outputId": "b4b3316e-d740-4235-c177-d450aa98b842"
      },
      "execution_count": 14,
      "outputs": [
        {
          "output_type": "execute_result",
          "data": {
            "text/plain": [
              "DescribeResult(nobs=9, minmax=(np.int64(12000), np.int64(800000)), mean=np.float64(181111.11111111112), variance=np.float64(65182111111.11111), skewness=np.float64(1.758635899846188), kurtosis=np.float64(1.9572075427527729))"
            ]
          },
          "metadata": {},
          "execution_count": 14
        }
      ]
    }
  ]
}